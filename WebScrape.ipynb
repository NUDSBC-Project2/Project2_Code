{
 "cells": [
  {
   "cell_type": "code",
   "execution_count": 1,
   "metadata": {},
   "outputs": [],
   "source": [
    "import pandas as pd\n",
    "from bs4 import BeautifulSoup\n",
    "from sqlalchemy import create_engine\n",
    "from time import sleep\n",
    "import requests"
   ]
  },
  {
   "cell_type": "code",
   "execution_count": 2,
   "metadata": {},
   "outputs": [
    {
     "name": "stdout",
     "output_type": "stream",
     "text": [
      "http://www.espn.com/nba/attendance\n"
     ]
    }
   ],
   "source": [
    "root_url = \"http://www.espn.com/nba/attendance\"\n",
    "print(root_url)"
   ]
  },
  {
   "cell_type": "code",
   "execution_count": 3,
   "metadata": {},
   "outputs": [
    {
     "name": "stdout",
     "output_type": "stream",
     "text": [
      "<Response [200]>\n"
     ]
    }
   ],
   "source": [
    "page = requests.get(root_url)\n",
    "print(page)"
   ]
  },
  {
   "cell_type": "code",
   "execution_count": 11,
   "metadata": {},
   "outputs": [],
   "source": [
    "attendance_soup = BeautifulSoup(page.text, \"html.parser\")"
   ]
  },
  {
   "cell_type": "code",
   "execution_count": 12,
   "metadata": {},
   "outputs": [],
   "source": [
    "rows = attendance_soup.findAll(\"tr\", attrs={\"class\":[\"evenrow\",\"oddrow\"]})"
   ]
  },
  {
   "cell_type": "code",
   "execution_count": 6,
   "metadata": {},
   "outputs": [
    {
     "name": "stdout",
     "output_type": "stream",
     "text": [
      "76ers\n",
      "20,517\n",
      "Mavericks\n",
      "19,807\n",
      "Trail Blazers\n",
      "19,776\n",
      "Raptors\n",
      "19,771\n",
      "Heat\n",
      "19,644\n",
      "Clippers\n",
      "19,068\n",
      "NY Knicks\n",
      "19,003\n",
      "Lakers\n",
      "18,997\n",
      "Celtics\n",
      "18,962\n",
      "Nuggets\n",
      "18,699\n",
      "Bulls\n",
      "18,477\n",
      "Spurs\n",
      "18,395\n",
      "Jazz\n",
      "18,306\n",
      "Thunder\n",
      "18,203\n",
      "Cavaliers\n",
      "18,185\n",
      "Warriors\n",
      "18,064\n",
      "Rockets\n",
      "18,055\n",
      "Bucks\n",
      "17,494\n",
      "Kings\n",
      "16,728\n",
      "Magic\n",
      "16,624\n",
      "Nets\n",
      "16,525\n",
      "Pelicans\n",
      "16,229\n",
      "Pacers\n",
      "16,182\n",
      "Pistons\n",
      "15,798\n",
      "Wizards\n",
      "15,680\n",
      "Hawks\n",
      "15,659\n",
      "Suns\n",
      "15,406\n",
      "Grizzlies\n",
      "15,372\n",
      "Hornets\n",
      "15,054\n",
      "Timberwolves\n",
      "14,880\n"
     ]
    }
   ],
   "source": [
    "for row in rows:\n",
    "    cells = row.findAll(\"td\")\n",
    "    print(cells[1].text)\n",
    "    print(cells[4].text)"
   ]
  },
  {
   "cell_type": "code",
   "execution_count": 9,
   "metadata": {},
   "outputs": [],
   "source": [
    "# create array of years\n",
    "years = ['2019','2018','2017','2016','2015','2014','2013','2012','2011','2010',\n",
    "        '2009','2008','2007','2006','2005','2004','2003','2002','2001']"
   ]
  },
  {
   "cell_type": "code",
   "execution_count": 10,
   "metadata": {},
   "outputs": [],
   "source": [
    "# create base_url for prior years\n",
    "base_url = \"http://www.espn.com/nba/attendance/_/year/\""
   ]
  },
  {
   "cell_type": "code",
   "execution_count": 20,
   "metadata": {},
   "outputs": [],
   "source": [
    "data_array = []\n",
    "\n",
    "for year in years:\n",
    "    # get first year in years array, add it to the end of the base url\n",
    "    new_page = requests.get(base_url+\"{years}\")\n",
    "    # parse it all out \n",
    "    new_soup = BeautifulSoup(new_page.text, 'html.parser')\n",
    "    # select elements to scrape\n",
    "    new_rows = new_soup.findAll(\"tr\", attrs={\"class\":[\"evenrow\",\"oddrow\"]})\n",
    "    # loop through elements and append data to data_array\n",
    "    for r in new_rows:\n",
    "        new_cells = r.findAll(\"td\")\n",
    "        data_array.append(new_cells[1].text)\n",
    "        data_array.append(new_cells[4].text)\n",
    "    # go back to the start, advance the year to the next year in the years list\n",
    "    # start the process over"
   ]
  },
  {
   "cell_type": "code",
   "execution_count": 21,
   "metadata": {},
   "outputs": [
    {
     "name": "stdout",
     "output_type": "stream",
     "text": [
      "['76ers', '20,517', 'Mavericks', '19,807', 'Trail Blazers', '19,776', 'Raptors', '19,771', 'Heat', '19,644', 'Clippers', '19,068', 'NY Knicks', '19,003', 'Lakers', '18,997', 'Celtics', '18,962', 'Nuggets', '18,699', 'Bulls', '18,477', 'Spurs', '18,395', 'Jazz', '18,306', 'Thunder', '18,203', 'Cavaliers', '18,185', 'Warriors', '18,064', 'Rockets', '18,055', 'Bucks', '17,494', 'Kings', '16,728', 'Magic', '16,624', 'Nets', '16,525', 'Pelicans', '16,229', 'Pacers', '16,182', 'Pistons', '15,798', 'Wizards', '15,680', 'Hawks', '15,659', 'Suns', '15,406', 'Grizzlies', '15,372', 'Hornets', '15,054', 'Timberwolves', '14,880', '76ers', '20,517', 'Mavericks', '19,807', 'Trail Blazers', '19,776', 'Raptors', '19,771', 'Heat', '19,644', 'Clippers', '19,068', 'NY Knicks', '19,003', 'Lakers', '18,997', 'Celtics', '18,962', 'Nuggets', '18,699', 'Bulls', '18,477', 'Spurs', '18,395', 'Jazz', '18,306', 'Thunder', '18,203', 'Cavaliers', '18,185', 'Warriors', '18,064', 'Rockets', '18,055', 'Bucks', '17,494', 'Kings', '16,728', 'Magic', '16,624', 'Nets', '16,525', 'Pelicans', '16,229', 'Pacers', '16,182', 'Pistons', '15,798', 'Wizards', '15,680', 'Hawks', '15,659', 'Suns', '15,406', 'Grizzlies', '15,372', 'Hornets', '15,054', 'Timberwolves', '14,880', '76ers', '20,517', 'Mavericks', '19,807', 'Trail Blazers', '19,776', 'Raptors', '19,771', 'Heat', '19,644', 'Clippers', '19,068', 'NY Knicks', '19,003', 'Lakers', '18,997', 'Celtics', '18,962', 'Nuggets', '18,699', 'Bulls', '18,477', 'Spurs', '18,395', 'Jazz', '18,306', 'Thunder', '18,203', 'Cavaliers', '18,185', 'Warriors', '18,064', 'Rockets', '18,055', 'Bucks', '17,494', 'Kings', '16,728', 'Magic', '16,624', 'Nets', '16,525', 'Pelicans', '16,229', 'Pacers', '16,182', 'Pistons', '15,798', 'Wizards', '15,680', 'Hawks', '15,659', 'Suns', '15,406', 'Grizzlies', '15,372', 'Hornets', '15,054', 'Timberwolves', '14,880', '76ers', '20,517', 'Mavericks', '19,807', 'Trail Blazers', '19,776', 'Raptors', '19,771', 'Heat', '19,644', 'Clippers', '19,068', 'NY Knicks', '19,003', 'Lakers', '18,997', 'Celtics', '18,962', 'Nuggets', '18,699', 'Bulls', '18,477', 'Spurs', '18,395', 'Jazz', '18,306', 'Thunder', '18,203', 'Cavaliers', '18,185', 'Warriors', '18,064', 'Rockets', '18,055', 'Bucks', '17,494', 'Kings', '16,728', 'Magic', '16,624', 'Nets', '16,525', 'Pelicans', '16,229', 'Pacers', '16,182', 'Pistons', '15,798', 'Wizards', '15,680', 'Hawks', '15,659', 'Suns', '15,406', 'Grizzlies', '15,372', 'Hornets', '15,054', 'Timberwolves', '14,880', '76ers', '20,517', 'Mavericks', '19,807', 'Trail Blazers', '19,776', 'Raptors', '19,771', 'Heat', '19,644', 'Clippers', '19,068', 'NY Knicks', '19,003', 'Lakers', '18,997', 'Celtics', '18,962', 'Nuggets', '18,699', 'Bulls', '18,477', 'Spurs', '18,395', 'Jazz', '18,306', 'Thunder', '18,203', 'Cavaliers', '18,185', 'Warriors', '18,064', 'Rockets', '18,055', 'Bucks', '17,494', 'Kings', '16,728', 'Magic', '16,624', 'Nets', '16,525', 'Pelicans', '16,229', 'Pacers', '16,182', 'Pistons', '15,798', 'Wizards', '15,680', 'Hawks', '15,659', 'Suns', '15,406', 'Grizzlies', '15,372', 'Hornets', '15,054', 'Timberwolves', '14,880', '76ers', '20,517', 'Mavericks', '19,807', 'Trail Blazers', '19,776', 'Raptors', '19,771', 'Heat', '19,644', 'Clippers', '19,068', 'NY Knicks', '19,003', 'Lakers', '18,997', 'Celtics', '18,962', 'Nuggets', '18,699', 'Bulls', '18,477', 'Spurs', '18,395', 'Jazz', '18,306', 'Thunder', '18,203', 'Cavaliers', '18,185', 'Warriors', '18,064', 'Rockets', '18,055', 'Bucks', '17,494', 'Kings', '16,728', 'Magic', '16,624', 'Nets', '16,525', 'Pelicans', '16,229', 'Pacers', '16,182', 'Pistons', '15,798', 'Wizards', '15,680', 'Hawks', '15,659', 'Suns', '15,406', 'Grizzlies', '15,372', 'Hornets', '15,054', 'Timberwolves', '14,880', '76ers', '20,517', 'Mavericks', '19,807', 'Trail Blazers', '19,776', 'Raptors', '19,771', 'Heat', '19,644', 'Clippers', '19,068', 'NY Knicks', '19,003', 'Lakers', '18,997', 'Celtics', '18,962', 'Nuggets', '18,699', 'Bulls', '18,477', 'Spurs', '18,395', 'Jazz', '18,306', 'Thunder', '18,203', 'Cavaliers', '18,185', 'Warriors', '18,064', 'Rockets', '18,055', 'Bucks', '17,494', 'Kings', '16,728', 'Magic', '16,624', 'Nets', '16,525', 'Pelicans', '16,229', 'Pacers', '16,182', 'Pistons', '15,798', 'Wizards', '15,680', 'Hawks', '15,659', 'Suns', '15,406', 'Grizzlies', '15,372', 'Hornets', '15,054', 'Timberwolves', '14,880', '76ers', '20,517', 'Mavericks', '19,807', 'Trail Blazers', '19,776', 'Raptors', '19,771', 'Heat', '19,644', 'Clippers', '19,068', 'NY Knicks', '19,003', 'Lakers', '18,997', 'Celtics', '18,962', 'Nuggets', '18,699', 'Bulls', '18,477', 'Spurs', '18,395', 'Jazz', '18,306', 'Thunder', '18,203', 'Cavaliers', '18,185', 'Warriors', '18,064', 'Rockets', '18,055', 'Bucks', '17,494', 'Kings', '16,728', 'Magic', '16,624', 'Nets', '16,525', 'Pelicans', '16,229', 'Pacers', '16,182', 'Pistons', '15,798', 'Wizards', '15,680', 'Hawks', '15,659', 'Suns', '15,406', 'Grizzlies', '15,372', 'Hornets', '15,054', 'Timberwolves', '14,880', '76ers', '20,517', 'Mavericks', '19,807', 'Trail Blazers', '19,776', 'Raptors', '19,771', 'Heat', '19,644', 'Clippers', '19,068', 'NY Knicks', '19,003', 'Lakers', '18,997', 'Celtics', '18,962', 'Nuggets', '18,699', 'Bulls', '18,477', 'Spurs', '18,395', 'Jazz', '18,306', 'Thunder', '18,203', 'Cavaliers', '18,185', 'Warriors', '18,064', 'Rockets', '18,055', 'Bucks', '17,494', 'Kings', '16,728', 'Magic', '16,624', 'Nets', '16,525', 'Pelicans', '16,229', 'Pacers', '16,182', 'Pistons', '15,798', 'Wizards', '15,680', 'Hawks', '15,659', 'Suns', '15,406', 'Grizzlies', '15,372', 'Hornets', '15,054', 'Timberwolves', '14,880', '76ers', '20,517', 'Mavericks', '19,807', 'Trail Blazers', '19,776', 'Raptors', '19,771', 'Heat', '19,644', 'Clippers', '19,068', 'NY Knicks', '19,003', 'Lakers', '18,997', 'Celtics', '18,962', 'Nuggets', '18,699', 'Bulls', '18,477', 'Spurs', '18,395', 'Jazz', '18,306', 'Thunder', '18,203', 'Cavaliers', '18,185', 'Warriors', '18,064', 'Rockets', '18,055', 'Bucks', '17,494', 'Kings', '16,728', 'Magic', '16,624', 'Nets', '16,525', 'Pelicans', '16,229', 'Pacers', '16,182', 'Pistons', '15,798', 'Wizards', '15,680', 'Hawks', '15,659', 'Suns', '15,406', 'Grizzlies', '15,372', 'Hornets', '15,054', 'Timberwolves', '14,880', '76ers', '20,517', 'Mavericks', '19,807', 'Trail Blazers', '19,776', 'Raptors', '19,771', 'Heat', '19,644', 'Clippers', '19,068', 'NY Knicks', '19,003', 'Lakers', '18,997', 'Celtics', '18,962', 'Nuggets', '18,699', 'Bulls', '18,477', 'Spurs', '18,395', 'Jazz', '18,306', 'Thunder', '18,203', 'Cavaliers', '18,185', 'Warriors', '18,064', 'Rockets', '18,055', 'Bucks', '17,494', 'Kings', '16,728', 'Magic', '16,624', 'Nets', '16,525', 'Pelicans', '16,229', 'Pacers', '16,182', 'Pistons', '15,798', 'Wizards', '15,680', 'Hawks', '15,659', 'Suns', '15,406', 'Grizzlies', '15,372', 'Hornets', '15,054', 'Timberwolves', '14,880', '76ers', '20,517', 'Mavericks', '19,807', 'Trail Blazers', '19,776', 'Raptors', '19,771', 'Heat', '19,644', 'Clippers', '19,068', 'NY Knicks', '19,003', 'Lakers', '18,997', 'Celtics', '18,962', 'Nuggets', '18,699', 'Bulls', '18,477', 'Spurs', '18,395', 'Jazz', '18,306', 'Thunder', '18,203', 'Cavaliers', '18,185', 'Warriors', '18,064', 'Rockets', '18,055', 'Bucks', '17,494', 'Kings', '16,728', 'Magic', '16,624', 'Nets', '16,525', 'Pelicans', '16,229', 'Pacers', '16,182', 'Pistons', '15,798', 'Wizards', '15,680', 'Hawks', '15,659', 'Suns', '15,406', 'Grizzlies', '15,372', 'Hornets', '15,054', 'Timberwolves', '14,880', '76ers', '20,517', 'Mavericks', '19,807', 'Trail Blazers', '19,776', 'Raptors', '19,771', 'Heat', '19,644', 'Clippers', '19,068', 'NY Knicks', '19,003', 'Lakers', '18,997', 'Celtics', '18,962', 'Nuggets', '18,699', 'Bulls', '18,477', 'Spurs', '18,395', 'Jazz', '18,306', 'Thunder', '18,203', 'Cavaliers', '18,185', 'Warriors', '18,064', 'Rockets', '18,055', 'Bucks', '17,494', 'Kings', '16,728', 'Magic', '16,624', 'Nets', '16,525', 'Pelicans', '16,229', 'Pacers', '16,182', 'Pistons', '15,798', 'Wizards', '15,680', 'Hawks', '15,659', 'Suns', '15,406', 'Grizzlies', '15,372', 'Hornets', '15,054', 'Timberwolves', '14,880', '76ers', '20,517', 'Mavericks', '19,807', 'Trail Blazers', '19,776', 'Raptors', '19,771', 'Heat', '19,644', 'Clippers', '19,068', 'NY Knicks', '19,003', 'Lakers', '18,997', 'Celtics', '18,962', 'Nuggets', '18,699', 'Bulls', '18,477', 'Spurs', '18,395', 'Jazz', '18,306', 'Thunder', '18,203', 'Cavaliers', '18,185', 'Warriors', '18,064', 'Rockets', '18,055', 'Bucks', '17,494', 'Kings', '16,728', 'Magic', '16,624', 'Nets', '16,525', 'Pelicans', '16,229', 'Pacers', '16,182', 'Pistons', '15,798', 'Wizards', '15,680', 'Hawks', '15,659', 'Suns', '15,406', 'Grizzlies', '15,372', 'Hornets', '15,054', 'Timberwolves', '14,880', '76ers', '20,517', 'Mavericks', '19,807', 'Trail Blazers', '19,776', 'Raptors', '19,771', 'Heat', '19,644', 'Clippers', '19,068', 'NY Knicks', '19,003', 'Lakers', '18,997', 'Celtics', '18,962', 'Nuggets', '18,699', 'Bulls', '18,477', 'Spurs', '18,395', 'Jazz', '18,306', 'Thunder', '18,203', 'Cavaliers', '18,185', 'Warriors', '18,064', 'Rockets', '18,055', 'Bucks', '17,494', 'Kings', '16,728', 'Magic', '16,624', 'Nets', '16,525', 'Pelicans', '16,229', 'Pacers', '16,182', 'Pistons', '15,798', 'Wizards', '15,680', 'Hawks', '15,659', 'Suns', '15,406', 'Grizzlies', '15,372', 'Hornets', '15,054', 'Timberwolves', '14,880', '76ers', '20,517', 'Mavericks', '19,807', 'Trail Blazers', '19,776', 'Raptors', '19,771', 'Heat', '19,644', 'Clippers', '19,068', 'NY Knicks', '19,003', 'Lakers', '18,997', 'Celtics', '18,962', 'Nuggets', '18,699', 'Bulls', '18,477', 'Spurs', '18,395', 'Jazz', '18,306', 'Thunder', '18,203', 'Cavaliers', '18,185', 'Warriors', '18,064', 'Rockets', '18,055', 'Bucks', '17,494', 'Kings', '16,728', 'Magic', '16,624', 'Nets', '16,525', 'Pelicans', '16,229', 'Pacers', '16,182', 'Pistons', '15,798', 'Wizards', '15,680', 'Hawks', '15,659', 'Suns', '15,406', 'Grizzlies', '15,372', 'Hornets', '15,054', 'Timberwolves', '14,880', '76ers', '20,517', 'Mavericks', '19,807', 'Trail Blazers', '19,776', 'Raptors', '19,771', 'Heat', '19,644', 'Clippers', '19,068', 'NY Knicks', '19,003', 'Lakers', '18,997', 'Celtics', '18,962', 'Nuggets', '18,699', 'Bulls', '18,477', 'Spurs', '18,395', 'Jazz', '18,306', 'Thunder', '18,203', 'Cavaliers', '18,185', 'Warriors', '18,064', 'Rockets', '18,055', 'Bucks', '17,494', 'Kings', '16,728', 'Magic', '16,624', 'Nets', '16,525', 'Pelicans', '16,229', 'Pacers', '16,182', 'Pistons', '15,798', 'Wizards', '15,680', 'Hawks', '15,659', 'Suns', '15,406', 'Grizzlies', '15,372', 'Hornets', '15,054', 'Timberwolves', '14,880', '76ers', '20,517', 'Mavericks', '19,807', 'Trail Blazers', '19,776', 'Raptors', '19,771', 'Heat', '19,644', 'Clippers', '19,068', 'NY Knicks', '19,003', 'Lakers', '18,997', 'Celtics', '18,962', 'Nuggets', '18,699', 'Bulls', '18,477', 'Spurs', '18,395', 'Jazz', '18,306', 'Thunder', '18,203', 'Cavaliers', '18,185', 'Warriors', '18,064', 'Rockets', '18,055', 'Bucks', '17,494', 'Kings', '16,728', 'Magic', '16,624', 'Nets', '16,525', 'Pelicans', '16,229', 'Pacers', '16,182', 'Pistons', '15,798', 'Wizards', '15,680', 'Hawks', '15,659', 'Suns', '15,406', 'Grizzlies', '15,372', 'Hornets', '15,054', 'Timberwolves', '14,880', '76ers', '20,517', 'Mavericks', '19,807', 'Trail Blazers', '19,776', 'Raptors', '19,771', 'Heat', '19,644', 'Clippers', '19,068', 'NY Knicks', '19,003', 'Lakers', '18,997', 'Celtics', '18,962', 'Nuggets', '18,699', 'Bulls', '18,477', 'Spurs', '18,395', 'Jazz', '18,306', 'Thunder', '18,203', 'Cavaliers', '18,185', 'Warriors', '18,064', 'Rockets', '18,055', 'Bucks', '17,494', 'Kings', '16,728', 'Magic', '16,624', 'Nets', '16,525', 'Pelicans', '16,229', 'Pacers', '16,182', 'Pistons', '15,798', 'Wizards', '15,680', 'Hawks', '15,659', 'Suns', '15,406', 'Grizzlies', '15,372', 'Hornets', '15,054', 'Timberwolves', '14,880']\n"
     ]
    }
   ],
   "source": [
    "print(data_array)"
   ]
  },
  {
   "cell_type": "code",
   "execution_count": null,
   "metadata": {},
   "outputs": [],
   "source": []
  }
 ],
 "metadata": {
  "kernelspec": {
   "display_name": "Python 3",
   "language": "python",
   "name": "python3"
  },
  "language_info": {
   "codemirror_mode": {
    "name": "ipython",
    "version": 3
   },
   "file_extension": ".py",
   "mimetype": "text/x-python",
   "name": "python",
   "nbconvert_exporter": "python",
   "pygments_lexer": "ipython3",
   "version": "3.7.3"
  }
 },
 "nbformat": 4,
 "nbformat_minor": 2
}
